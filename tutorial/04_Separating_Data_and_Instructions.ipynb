{
 "cells": [
  {
   "cell_type": "markdown",
   "id": "e41452c1",
   "metadata": {},
   "source": [
    "# Chapter 4: Separating Data and Instructions\n",
    "\n",
    "This lesson shows how to improve prompt clarity and model output by separating the data (facts, context) from instructions (what you want the model to do).\n",
    "\n",
    "- Why separation matters\n",
    "- How to structure prompts for clarity\n",
    "- Exercises to practice separating data and instructions\n",
    "\n",
    "Run the setup cell below to initialize your Ollama environment."
   ]
  },
  {
   "cell_type": "code",
   "execution_count": null,
   "id": "bbb8dd48",
   "metadata": {},
   "outputs": [],
   "source": [
    "# Run environment setup (customized for your env)\n",
    "def pretty_print_response():\n",
    "    return\n",
    "def get_completion():\n",
    "    return\n",
    "%run 00_Tutorial_How-To.ipynb"
   ]
  },
  {
   "cell_type": "markdown",
   "id": "a295fc79",
   "metadata": {},
   "source": [
    "## Why Separate Data and Instructions?\n",
    "\n",
    "When you mix facts and instructions in a prompt, the model may get confused or produce less accurate results.\n",
    "\n",
    "**Best practice:**\n",
    "- Present the data first (facts, context, information)\n",
    "- Then clearly state the instructions (what you want the model to do)\n",
    "\n",
    "This makes your intent clear and helps the model focus on the task."
   ]
  },
  {
   "cell_type": "markdown",
   "id": "55750e63",
   "metadata": {},
   "source": [
    "## Example: Mixed vs. Separated\n",
    "Let's see how prompt structure affects the output."
   ]
  },
  {
   "cell_type": "code",
   "execution_count": null,
   "id": "99328b56",
   "metadata": {},
   "outputs": [],
   "source": [
    "# Mixed prompt (data and instructions together)\n",
    "prompt = 'The Eiffel Tower is in Paris. What is the Eiffel Tower and where is it located?'\n",
    "pretty_print_response(get_completion(prompt))"
   ]
  },
  {
   "cell_type": "code",
   "execution_count": null,
   "id": "35d51aaa",
   "metadata": {},
   "outputs": [],
   "source": [
    "# Define your data and instructions\n",
    "data = 'The Eiffel Tower is in Paris.'\n",
    "instructions = 'What is the Eiffel Tower and where is it located?'\n",
    "prompt_template = '<data>\\n{data}\\n</data>\\n\\n<instructions>\\n{instructions}\\n</instructions>'\n",
    "prompt = prompt_template.format(data=data, instructions=instructions)\n",
    "pretty_print_response(get_completion(prompt))"
   ]
  },
  {
   "cell_type": "markdown",
   "id": "9739dee9",
   "metadata": {},
   "source": [
    "Notice how separating the data and instructions makes the prompt clearer and often improves the response."
   ]
  },
  {
   "cell_type": "markdown",
   "id": "e1ed6375",
   "metadata": {},
   "source": [
    "## Exercise 1: Separate the Data\n",
    "Rewrite the following prompt to separate the data from the instructions.\n",
    "\n",
    "Original prompt:\n",
    "'The Amazon rainforest is the largest rainforest in the world. What is the Amazon rainforest and why is it important?'\n",
    "\n",
    "**Goal:** Make the data and instructions clear."
   ]
  },
  {
   "cell_type": "code",
   "execution_count": null,
   "id": "7de72be2",
   "metadata": {},
   "outputs": [],
   "source": [
    "# Edit these variables\n",
    "data = '[Replace this text with the data]'\n",
    "instructions = '[Replace this text with the instructions] Please answer in bullet points.'\n",
    "prompt_template = '<data>\\n{data}\\n</data>\\n\\n<instructions>\\n{instructions}\\n</instructions>'\n",
    "prompt = prompt_template.format(data=data, instructions=instructions)\n",
    "pretty_print_response(get_completion(prompt))"
   ]
  },
  {
   "cell_type": "markdown",
   "id": "7028a3df",
   "metadata": {},
   "source": [
    "## Exercise 3: Technical Documentation\n",
    "Rewrite a technical prompt to separate the data from the instructions.\n",
    "\n",
    "Original prompt:\n",
    "'A function called add_numbers takes two integers and returns their sum. Write Python code for this function.'\n",
    "\n",
    "**Goal:** Make the data and instructions clear."
   ]
  },
  {
   "cell_type": "code",
   "execution_count": null,
   "id": "3854c4f3",
   "metadata": {},
   "outputs": [],
   "source": [
    "# Edit these variables for technical documentation\n",
    "data = '[Replace this text with the data, e.g. function description]'\n",
    "instructions = '[Replace this text with the instructions, e.g. write code]'\n",
    "prompt_template = '<data>\\n{data}\\n</data>\\n\\n<instructions>\\n{instructions}\\n</instructions>'\n",
    "prompt = prompt_template.format(data=data, instructions=instructions)\n",
    "pretty_print_response(get_completion(prompt))"
   ]
  }
 ],
 "metadata": {
  "kernelspec": {
   "display_name": "Python 3",
   "language": "python",
   "name": "python3"
  },
  "language_info": {
   "codemirror_mode": {
    "name": "ipython",
    "version": 3
   },
   "file_extension": ".py",
   "mimetype": "text/x-python",
   "name": "python",
   "nbconvert_exporter": "python",
   "pygments_lexer": "ipython3",
   "version": "3.11.9"
  }
 },
 "nbformat": 4,
 "nbformat_minor": 5
}
