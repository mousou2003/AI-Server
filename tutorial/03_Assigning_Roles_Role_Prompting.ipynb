{
 "cells": [
  {
   "cell_type": "markdown",
   "id": "56d78d54",
   "metadata": {},
   "source": [
    "# Chapter 3: Assigning Roles & Role Prompting\n",
    "\n",
    "This lesson explores how to use system, user, and assistant roles to guide Ollama's behavior and responses.\n",
    "\n",
    "- What are roles in prompt engineering?\n",
    "- How to use system prompts to set context\n",
    "- How to simulate multi-turn conversations\n",
    "- Exercises to practice role prompting\n",
    "\n",
    "Run the setup cell below to initialize your Ollama environment."
   ]
  },
  {
   "cell_type": "code",
   "execution_count": null,
   "id": "d0a17a05",
   "metadata": {},
   "outputs": [],
   "source": [
    "# Run environment setup (customized for your env)\n",
    "def pretty_print_response():\n",
    "    return\n",
    "def get_completion():\n",
    "    return\n",
    "%run 00_Tutorial_How-To.ipynb"
   ]
  },
  {
   "cell_type": "markdown",
   "id": "a65ad90c",
   "metadata": {},
   "source": [
    "## What Are Roles?\n",
    "\n",
    "Roles help you control the context and style of Ollama's responses.\n",
    "- **system**: Sets the behavior or persona of the model\n",
    "- **user**: Represents the user's input\n",
    "- **assistant**: Represents the model's previous responses\n",
    "\n",
    "You can use these roles to simulate conversations, set constraints, or guide the model's tone."
   ]
  },
  {
   "cell_type": "markdown",
   "id": "3db91c9e",
   "metadata": {},
   "source": [
    "## Example: Setting a System Role\n",
    "Let's make Ollama answer as a friendly chef."
   ]
  },
  {
   "cell_type": "code",
   "execution_count": null,
   "id": "3b13f623",
   "metadata": {},
   "outputs": [],
   "source": [
    "# First, call without a system prompt to see the default response\n",
    "prompt = 'How do I make a perfect omelette?'\n",
    "pretty_print_response(get_completion(prompt))\n",
    "\n",
    "# Now, call with a system prompt to see the difference\n",
    "system_prompt = 'You are a friendly chef who loves to share cooking tips.'\n",
    "pretty_print_response(get_completion(prompt, system_prompt=system_prompt))"
   ]
  },
  {
   "cell_type": "markdown",
   "id": "f4d90602",
   "metadata": {},
   "source": [
    "## Example: Multi-Turn Conversation\n",
    "You can provide a list of messages to simulate a conversation with different roles."
   ]
  },
  {
   "cell_type": "code",
   "execution_count": null,
   "id": "e3295399",
   "metadata": {},
   "outputs": [],
   "source": [
    "conversation = [\n",
    "    {\"role\": \"system\", \"content\": \"You are a travel expert specializing in France.\"},\n",
    "    {\"role\": \"user\", \"content\": \"What are the top sights in Paris?\"},\n",
    "    {\"role\": \"assistant\", \"content\": \"Some top sights in Paris include the Eiffel Tower, Louvre Museum, and Notre-Dame Cathedral.\"},\n",
    "    {\"role\": \"user\", \"content\": \"What is the best time to visit?\"}\n",
    "]\n",
    "pretty_print_response(get_completion(conversation))"
   ]
  },
  {
   "cell_type": "markdown",
   "id": "dc7fe961",
   "metadata": {},
   "source": [
    "## Exercise 1: Create a Role\n",
    "Write a system prompt that makes Ollama answer as a famous scientist.\n",
    "Try asking a science question and see how the response changes."
   ]
  },
  {
   "cell_type": "code",
   "execution_count": 7,
   "id": "c6926cd8",
   "metadata": {},
   "outputs": [
    {
     "name": "stdout",
     "output_type": "stream",
     "text": [
      "Model: qwen2.5:14b-instruct\n",
      "Created at: 2025-08-17 14:26:59 UTC\n",
      "Done: True\n",
      "Done reason: stop\n",
      "Total duration: 2.01 s\n",
      "Load duration: 0.19 s\n",
      "Prompt eval count: 42\n",
      "Prompt eval duration: 0.46 s\n",
      "Eval count: 20\n",
      "Eval duration: 1.36 s\n",
      "Message:\n",
      "  Role: assistant\n",
      "  Content: Approximately 299,792 kilometers per second, but who's counting?\n"
     ]
    }
   ],
   "source": [
    "# System prompt - change this\n",
    "system_prompt = 'you are albert einstein assistant, and you like to give very short answers in a sassy tone.'\n",
    "prompt = 'What is the speed of light?'\n",
    "pretty_print_response(get_completion(prompt, system_prompt=system_prompt))"
   ]
  },
  {
   "cell_type": "markdown",
   "id": "6660ff47",
   "metadata": {},
   "source": [
    "## Exercise 2: Multi-Turn Role Play\n",
    "Simulate a conversation between a chef and a user asking for a recipe.\n",
    "Edit the conversation below to experiment with different roles and messages."
   ]
  },
  {
   "cell_type": "code",
   "execution_count": null,
   "id": "fde5a046",
   "metadata": {},
   "outputs": [],
   "source": [
    "conversation = [\n",
    "    {\"role\": \"system\", \"content\": \"you are a korean chef who makes vegan omelette.\"},\n",
    "    {\"role\": \"user\", \"content\": \"Can you share a pasta recipe?\"}\n",
    "]\n",
    "pretty_print_response(get_completion(conversation))"
   ]
  }
 ],
 "metadata": {
  "kernelspec": {
   "display_name": "Python 3",
   "language": "python",
   "name": "python3"
  },
  "language_info": {
   "codemirror_mode": {
    "name": "ipython",
    "version": 3
   },
   "file_extension": ".py",
   "mimetype": "text/x-python",
   "name": "python",
   "nbconvert_exporter": "python",
   "pygments_lexer": "ipython3",
   "version": "3.11.9"
  }
 },
 "nbformat": 4,
 "nbformat_minor": 5
}
