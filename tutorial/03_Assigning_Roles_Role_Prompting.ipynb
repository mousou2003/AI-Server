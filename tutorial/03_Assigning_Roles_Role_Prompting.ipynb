{
 "cells": [
  {
   "cell_type": "markdown",
   "id": "56d78d54",
   "metadata": {},
   "source": [
    "# Chapter 3: Assigning Roles & Role Prompting\n",
    "\n",
    "This lesson explores how to use system, user, and assistant roles to guide Ollama's behavior and responses.\n",
    "\n",
    "- What are roles in prompt engineering?\n",
    "- How to use system prompts to set context\n",
    "- How to simulate multi-turn conversations\n",
    "- Exercises to practice role prompting\n",
    "\n",
    "Run the setup cell below to initialize your Ollama environment."
   ]
  },
  {
   "cell_type": "code",
   "execution_count": 3,
   "id": "d0a17a05",
   "metadata": {},
   "outputs": [
    {
     "name": "stdout",
     "output_type": "stream",
     "text": [
      "Note: you may need to restart the kernel to use updated packages.\n",
      "Stored 'MODEL_NAME' (str)\n",
      "Stored 'OLLAMA_HOST' (str)\n",
      "Ollama client already initialized.\n"
     ]
    }
   ],
   "source": [
    "# Run environment setup (customized for your env)\n",
    "%run 00_Tutorial_How-To.ipynb"
   ]
  },
  {
   "cell_type": "markdown",
   "id": "a65ad90c",
   "metadata": {},
   "source": [
    "## What Are Roles?\n",
    "\n",
    "Roles help you control the context and style of Ollama's responses.\n",
    "- **system**: Sets the behavior or persona of the model\n",
    "- **user**: Represents the user's input\n",
    "- **assistant**: Represents the model's previous responses\n",
    "\n",
    "You can use these roles to simulate conversations, set constraints, or guide the model's tone."
   ]
  },
  {
   "cell_type": "markdown",
   "id": "3db91c9e",
   "metadata": {},
   "source": [
    "## Example: Setting a System Role\n",
    "Let's make Ollama answer as a friendly chef."
   ]
  },
  {
   "cell_type": "code",
   "execution_count": 4,
   "id": "3b13f623",
   "metadata": {},
   "outputs": [
    {
     "name": "stdout",
     "output_type": "stream",
     "text": [
      "Model: qwen2.5:14b-instruct\n",
      "Created at: 2025-08-17 14:01:53 UTC\n",
      "Done: True\n",
      "Done reason: stop\n",
      "Total duration: 29.19 s\n",
      "Load duration: 0.13 s\n",
      "Prompt eval count: 18\n",
      "Prompt eval duration: 0.46 s\n",
      "Eval count: 330\n",
      "Eval duration: 28.59 s\n",
      "Message:\n",
      "  Role: assistant\n",
      "  Content: Making a perfect omelette involves several key steps. Here's a simple recipe to help you create an excellent omelette:\n",
      "\n",
      "Ingredients:\n",
      "- 2 eggs (or more, depending on your preference)\n",
      "- Salt and pepper to taste\n",
      "- 1 tablespoon of butter or oil\n",
      "- Optional fillings: cheese, diced ham, chopped vegetables, herbs, etc.\n",
      "\n",
      "Instructions:\n",
      "\n",
      "1. Crack the eggs into a bowl and beat them with a fork until the yolks and whites are fully combined.\n",
      "2. Season the beaten eggs with salt and pepper to taste.\n",
      "3. Heat a non-stick skillet or frying pan over medium heat and add butter or oil. Swirl it around to coat the bottom of the pan evenly.\n",
      "4. Once the butter has melted and is foaming (or the oil is hot), pour in the beaten eggs. Let them cook for about 10-20 seconds, then use a spatula to gently push the cooked edges towards the center while tilting the pan to allow the uncooked egg to flow to the edges.\n",
      "5. If using fillings, add them now on one side of the omelette and sprinkle cheese over it if desired.\n",
      "6. Once the eggs are mostly set but still slightly runny on top (usually after about 1-2 minutes), use a spatula to fold the omelette in half over the filling.\n",
      "7. Cook for another 30 seconds or so, until the cheese is melted and the eggs are fully cooked to your liking.\n",
      "8. Slide the omelette onto a plate and serve immediately.\n",
      "\n",
      "Enjoy your perfect omelette!\n",
      "Model: qwen2.5:14b-instruct\n",
      "Created at: 2025-08-17 14:02:44 UTC\n",
      "Done: True\n",
      "Done reason: stop\n",
      "Total duration: 50.94 s\n",
      "Load duration: 0.22 s\n",
      "Prompt eval count: 35\n",
      "Prompt eval duration: 0.38 s\n",
      "Eval count: 553\n",
      "Eval duration: 50.33 s\n",
      "Message:\n",
      "  Role: assistant\n",
      "  Content: Making a perfect omelette is all about technique and attention to detail. Here’s a step-by-step guide to help you create a delicious, fluffy omelette:\n",
      "\n",
      "### Ingredients:\n",
      "- 2 large eggs (or 3 for a larger omelette)\n",
      "- Salt and pepper to taste\n",
      "- A small knob of butter or olive oil\n",
      "- Optional fillings: cheese, herbs, diced vegetables, cooked meats, etc.\n",
      "\n",
      "### Equipment:\n",
      "- Non-stick skillet or frying pan (about 8 inches in diameter is ideal)\n",
      "- Whisk or fork for beating eggs\n",
      "- Spatula\n",
      "\n",
      "### Instructions:\n",
      "\n",
      "1. **Prepare the Eggs**:\n",
      "   - Crack the eggs into a bowl and beat them with salt and pepper until well combined. You can add a splash of milk or cream to make it extra fluffy, but this is optional.\n",
      "\n",
      "2. **Heat the Pan**:\n",
      "   - Place your non-stick skillet over medium heat and let it warm up for about 1-2 minutes.\n",
      "   - Add a small knob of butter (about half a tablespoon) or a teaspoon of olive oil to the pan. Let it melt and spread evenly across the surface.\n",
      "\n",
      "3. **Cook the Eggs**:\n",
      "   - Pour in the beaten eggs into the center of the hot, greased skillet.\n",
      "   - As soon as the edges start to set but before they become too firm (about 15-20 seconds), use a spatula to gently push them towards the center while tilting the pan to allow any uncooked egg from the edge to flow to the sides.\n",
      "\n",
      "4. **Add Fillings**:\n",
      "   - Once you have a nice layer of cooked eggs on one side, add your fillings (cheese, herbs, vegetables, etc.) along one half of the omelette.\n",
      "   - Sprinkle some cheese over the filling if using it for extra flavor and texture.\n",
      "\n",
      "5. **Fold the Omelette**:\n",
      "   - Once the top surface is just set but still slightly runny, use your spatula to fold the empty side of the omelette over the filled half.\n",
      "   - Let it cook for another 10-20 seconds until the cheese melts and everything is heated through.\n",
      "\n",
      "6. **Serve Hot**:\n",
      "   - Slide the folded omelette onto a plate using your spatula, making sure not to break its shape.\n",
      "   - Serve immediately while hot and enjoy!\n",
      "\n",
      "### Tips:\n",
      "- Use room temperature eggs for better results.\n",
      "- Don’t overcook; an omelette should be slightly runny inside when you fold it.\n",
      "- Experiment with different fillings based on what you have available or your personal taste preferences.\n",
      "\n",
      "Enjoy your perfectly cooked omelette!\n",
      "Model: qwen2.5:14b-instruct\n",
      "Created at: 2025-08-17 14:02:44 UTC\n",
      "Done: True\n",
      "Done reason: stop\n",
      "Total duration: 50.94 s\n",
      "Load duration: 0.22 s\n",
      "Prompt eval count: 35\n",
      "Prompt eval duration: 0.38 s\n",
      "Eval count: 553\n",
      "Eval duration: 50.33 s\n",
      "Message:\n",
      "  Role: assistant\n",
      "  Content: Making a perfect omelette is all about technique and attention to detail. Here’s a step-by-step guide to help you create a delicious, fluffy omelette:\n",
      "\n",
      "### Ingredients:\n",
      "- 2 large eggs (or 3 for a larger omelette)\n",
      "- Salt and pepper to taste\n",
      "- A small knob of butter or olive oil\n",
      "- Optional fillings: cheese, herbs, diced vegetables, cooked meats, etc.\n",
      "\n",
      "### Equipment:\n",
      "- Non-stick skillet or frying pan (about 8 inches in diameter is ideal)\n",
      "- Whisk or fork for beating eggs\n",
      "- Spatula\n",
      "\n",
      "### Instructions:\n",
      "\n",
      "1. **Prepare the Eggs**:\n",
      "   - Crack the eggs into a bowl and beat them with salt and pepper until well combined. You can add a splash of milk or cream to make it extra fluffy, but this is optional.\n",
      "\n",
      "2. **Heat the Pan**:\n",
      "   - Place your non-stick skillet over medium heat and let it warm up for about 1-2 minutes.\n",
      "   - Add a small knob of butter (about half a tablespoon) or a teaspoon of olive oil to the pan. Let it melt and spread evenly across the surface.\n",
      "\n",
      "3. **Cook the Eggs**:\n",
      "   - Pour in the beaten eggs into the center of the hot, greased skillet.\n",
      "   - As soon as the edges start to set but before they become too firm (about 15-20 seconds), use a spatula to gently push them towards the center while tilting the pan to allow any uncooked egg from the edge to flow to the sides.\n",
      "\n",
      "4. **Add Fillings**:\n",
      "   - Once you have a nice layer of cooked eggs on one side, add your fillings (cheese, herbs, vegetables, etc.) along one half of the omelette.\n",
      "   - Sprinkle some cheese over the filling if using it for extra flavor and texture.\n",
      "\n",
      "5. **Fold the Omelette**:\n",
      "   - Once the top surface is just set but still slightly runny, use your spatula to fold the empty side of the omelette over the filled half.\n",
      "   - Let it cook for another 10-20 seconds until the cheese melts and everything is heated through.\n",
      "\n",
      "6. **Serve Hot**:\n",
      "   - Slide the folded omelette onto a plate using your spatula, making sure not to break its shape.\n",
      "   - Serve immediately while hot and enjoy!\n",
      "\n",
      "### Tips:\n",
      "- Use room temperature eggs for better results.\n",
      "- Don’t overcook; an omelette should be slightly runny inside when you fold it.\n",
      "- Experiment with different fillings based on what you have available or your personal taste preferences.\n",
      "\n",
      "Enjoy your perfectly cooked omelette!\n"
     ]
    }
   ],
   "source": [
    "# First, call without a system prompt to see the default response\n",
    "prompt = 'How do I make a perfect omelette?'\n",
    "pretty_print_response(get_completion(prompt))\n",
    "\n",
    "# Now, call with a system prompt to see the difference\n",
    "system_prompt = 'You are a friendly chef who loves to share cooking tips.'\n",
    "pretty_print_response(get_completion(prompt, system_prompt=system_prompt))"
   ]
  },
  {
   "cell_type": "markdown",
   "id": "f4d90602",
   "metadata": {},
   "source": [
    "## Example: Multi-Turn Conversation\n",
    "You can provide a list of messages to simulate a conversation with different roles."
   ]
  },
  {
   "cell_type": "code",
   "execution_count": 5,
   "id": "e3295399",
   "metadata": {},
   "outputs": [
    {
     "name": "stdout",
     "output_type": "stream",
     "text": [
      "Model: qwen2.5:14b-instruct\n",
      "Created at: 2025-08-17 14:12:10 UTC\n",
      "Done: True\n",
      "Done reason: stop\n",
      "Total duration: 24.07 s\n",
      "Load duration: 0.12 s\n",
      "Prompt eval count: 70\n",
      "Prompt eval duration: 0.68 s\n",
      "Eval count: 270\n",
      "Eval duration: 23.25 s\n",
      "Message:\n",
      "  Role: assistant\n",
      "  Content: The best time to visit Paris largely depends on your preferences for weather and events:\n",
      "\n",
      "1. **Spring (March to May)**: This period offers mild temperatures and fewer tourists compared to summer. The city's parks, such as Luxembourg Gardens and Tuileries Garden, are in full bloom with flowers.\n",
      "\n",
      "2. **Summer (June to August)**: Summer is the peak tourist season when Paris experiences warm weather and long daylight hours. It’s a great time for outdoor activities like picnics in the Jardin du Luxembourg or boat rides along the Seine. However, it can also be crowded and expensive due to high demand.\n",
      "\n",
      "3. **Autumn (September to November)**: Autumn is often considered one of the best times to visit Paris with comfortable temperatures and fewer tourists than summer. The city's museums are less crowded, and you might catch some cultural events like the Paris Fashion Week or the Salon du Chocolat.\n",
      "\n",
      "4. **Winter (December to February)**: Winter in Paris can be chilly but charming, especially around Christmas when the city is decorated beautifully with lights and markets. It’s a magical time for visiting places like the Eiffel Tower at night or exploring the Christmas markets in Saint-Germain-des-Prés and Le Marais.\n",
      "\n",
      "Each season offers unique experiences, so choose based on what you enjoy most!\n"
     ]
    }
   ],
   "source": [
    "conversation = [\n",
    "    {\"role\": \"system\", \"content\": \"You are a travel expert specializing in France.\"},\n",
    "    {\"role\": \"user\", \"content\": \"What are the top sights in Paris?\"},\n",
    "    {\"role\": \"assistant\", \"content\": \"Some top sights in Paris include the Eiffel Tower, Louvre Museum, and Notre-Dame Cathedral.\"},\n",
    "    {\"role\": \"user\", \"content\": \"What is the best time to visit?\"}\n",
    "]\n",
    "pretty_print_response(get_completion(conversation))"
   ]
  },
  {
   "cell_type": "markdown",
   "id": "dc7fe961",
   "metadata": {},
   "source": [
    "## Exercise 1: Create a Role\n",
    "Write a system prompt that makes Ollama answer as a famous scientist.\n",
    "Try asking a science question and see how the response changes."
   ]
  },
  {
   "cell_type": "code",
   "execution_count": null,
   "id": "c6926cd8",
   "metadata": {},
   "outputs": [],
   "source": [
    "# System prompt - change this\n",
    "system_prompt = '[Replace this text]'\n",
    "prompt = 'What is the speed of light?'\n",
    "pretty_print_response(get_completion(prompt, system_prompt=system_prompt))"
   ]
  },
  {
   "cell_type": "markdown",
   "id": "6660ff47",
   "metadata": {},
   "source": [
    "## Exercise 2: Multi-Turn Role Play\n",
    "Simulate a conversation between a chef and a user asking for a recipe.\n",
    "Edit the conversation below to experiment with different roles and messages."
   ]
  },
  {
   "cell_type": "code",
   "execution_count": null,
   "id": "fde5a046",
   "metadata": {},
   "outputs": [],
   "source": [
    "conversation = [\n",
    "    {\"role\": \"system\", \"content\": \"You are a chef who specializes in Italian cuisine.\"},\n",
    "    {\"role\": \"user\", \"content\": \"Can you share a pasta recipe?\"}\n",
    "]\n",
    "pretty_print_response(get_completion(conversation))"
   ]
  }
 ],
 "metadata": {
  "kernelspec": {
   "display_name": "Python 3",
   "language": "python",
   "name": "python3"
  },
  "language_info": {
   "codemirror_mode": {
    "name": "ipython",
    "version": 3
   },
   "file_extension": ".py",
   "mimetype": "text/x-python",
   "name": "python",
   "nbconvert_exporter": "python",
   "pygments_lexer": "ipython3",
   "version": "3.11.9"
  }
 },
 "nbformat": 4,
 "nbformat_minor": 5
}
