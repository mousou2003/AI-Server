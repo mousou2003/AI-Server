{
 "cells": [
  {
   "cell_type": "markdown",
   "id": "b902dcbe",
   "metadata": {},
   "source": [
    "# Chapter 3 — Prompt Modes: System vs Role vs Instructions vs Style\n",
    "\n",
    "This notebook teaches how different *prompt modes* shape an LLM’s output and gives hands-on exercises. We will cover:\n",
    "\n",
    "1. **System Prompt** — the default behavior / ground rules.\n",
    "2. **Role Prompt** — the persona or hat worn for a given task.\n",
    "3. **Instructions** — the specific command for the task at hand.\n",
    "4. **Style** — tone and formatting.\n",
    "5. **Mixed Frames** — combining modes for precise control.\n",
    "\n",
    "> **Learning Goal**: By the end, you can design prompts that reliably change tone, depth, and format and you’ll have mini-exercises to practice each concept.\n"
   ]
  },
  {
   "cell_type": "code",
   "execution_count": null,
   "id": "3c593d4d",
   "metadata": {},
   "outputs": [],
   "source": [
    "# Run environment setup\n",
    "def pretty_print_response():\n",
    "    return\n",
    "def get_completion():\n",
    "    return\n",
    "%run 00_Tutorial_How-To.ipynb\n",
    "\n",
    "roles_config = {\n",
    "    \"Tour Guide\": {\n",
    "        \"instruction\": \"Explain the Eiffel Tower to first-time visitors. Keep it practical.\",\n",
    "        \"prompt\": \"You are a Tour Guide. Answer as a friendly local expert.\",\n",
    "        \"temperature\": 0.8\n",
    "    },\n",
    "    \"Engineer\": {\n",
    "        \"instruction\": \"Explain the Eiffel Tower focusing on materials and forces.\",\n",
    "        \"prompt\": \"You are an Engineer. Be precise, structured, and quantitative.\",\n",
    "        \"temperature\": 0.2\n",
    "    },\n",
    "    \"Journalist\": {\n",
    "        \"instruction\": \"Explain the Eiffel Tower as a journalist would.\",\n",
    "        \"prompt\": \"You are a Journalist. Be factual, balanced, and engaging.\",\n",
    "        \"temperature\": 0.55\n",
    "    },\n",
    "    \"Educator\": {\n",
    "        \"instruction\": \"What is the Eiffel Tower?\",\n",
    "        \"prompt\": \"You are a historian specializing in 19th-century Europe. Always answer in formal academic English.\",\n",
    "        \"temperature\": 0.4\n",
    "    }\n",
    "}"
   ]
  },
  {
   "cell_type": "markdown",
   "id": "d9181270",
   "metadata": {},
   "source": [
    "## 1. What is a Prompt?\n",
    "A **prompt** is the input you give an LLM. It can include background data, constraints, and explicit instructions. Think of prompt *modes* as dials:\n",
    "- **System**: sets the default rules for the session.\n",
    "- **Role**: tells the AI which persona to adopt.\n",
    "- **Instructions**: the actual task to perform now.\n",
    "- **Style**: how to sound and format the output."
   ]
  },
  {
   "cell_type": "markdown",
   "id": "7ce099e9",
   "metadata": {},
   "source": [
    "## 2. System Prompt\n",
    "\n",
    "**Definition**: The *system prompt* is the foundational directive that shapes default behavior for the model. It sets the ground rules and context for all responses that follow.\n",
    "\n",
    "\n",
    "**How the prompt is sent to Ollama:**\n",
    "When interacting with Ollama, prompts are structured as a sequence of roles and their content. This helps the model understand who is speaking and what context to use.\n",
    "\n",
    "\n",
    "**Example prompt structure:**\n",
    "```\n",
    "=== Sending to Ollama ===\n",
    "1. role=system\n",
    "   content=You are a historian specializing in 19th-century Europe. Always answer in formal academic English.\n",
    "\n",
    "2. role=user\n",
    "   content=What is the Eiffel Tower?\n",
    "=========================\n",
    "```\n",
    "The `system` role sets the default behavior, while the `user` role provides the question or task. This format ensures the model knows how to respond and what style or expertise to use.\n",
    "\n",
    "\n",
    "**Why it matters:**\n",
    "A well-crafted system prompt creates a persistent baseline for the session, guiding the model's tone, depth, and style unless later overridden by more specific instructions."
   ]
  },
  {
   "cell_type": "code",
   "execution_count": null,
   "id": "cc4d7d04",
   "metadata": {},
   "outputs": [],
   "source": [
    "# System prompt example using Educator role from roles_config\n",
    "educator = roles_config[\"Educator\"]\n",
    "system_prompt = educator[\"prompt\"]\n",
    "prompt = educator[\"instruction\"]\n",
    "pretty_print_response(get_completion(prompt_or_messages=prompt, system_prompt=system_prompt))"
   ]
  },
  {
   "cell_type": "markdown",
   "id": "152b5dab",
   "metadata": {},
   "source": [
    "## 3. Role Prompt\n",
    "\n",
    "**Definition**: A *role prompt* lets you assign a temporary persona or perspective to the model for a specific task. This helps tailor the response to a particular audience or context.\n",
    "\n",
    "\n",
    "**How role prompts are sent to Ollama:**\n",
    "Prompts are structured as a sequence of roles and their content, making it clear who is speaking and what their focus should be.\n",
    "\n",
    "\n",
    "**Example prompt structure:**\n",
    "```\n",
    "=== Sending to Ollama ===\n",
    "1. role=role\n",
    "   content=Tour Guide\n",
    "\n",
    "2. role=user\n",
    "   content=Explain the Eiffel Tower to first-time visitors. Keep it practical.\n",
    "=========================\n",
    "```\n",
    "You can swap the role to \"Engineer\" or \"Journalist\" and adjust the instructions to change the focus and style of the response.\n",
    "\n",
    "\n",
    "**Why it matters:**\n",
    "Role prompts allow you to quickly change the model's perspective, expertise, or tone for a given task, without altering the overall session baseline. This makes it easy to get answers tailored to different audiences or needs."
   ]
  },
  {
   "cell_type": "code",
   "execution_count": null,
   "id": "66973a65",
   "metadata": {},
   "outputs": [],
   "source": [
    "for role, config in roles_config.items():\n",
    "    role_prompt = config[\"prompt\"]\n",
    "    instruction = config[\"instruction\"]\n",
    "    temp = config[\"temperature\"]\n",
    "\n",
    "    user_prompt = f\"{role_prompt} {instruction}\"\n",
    "    pretty_print_response(get_completion(user_prompt, system_prompt=\"\", temperature=temp))"
   ]
  },
  {
   "cell_type": "markdown",
   "id": "e1445093",
   "metadata": {},
   "source": [
    "## 4. Instructions\n",
    "**Definition**: Direct commands describing *what to do now*. Instructions can override the default/system behavior set by the system prompt.\n",
    "\n",
    "**Example in code below:**\n",
    "The code below demonstrates how a formal academic system prompt can be overridden by a user instruction that asks for a casual explanation. This shows how instructions can change the model's output, even when a system prompt is present."
   ]
  },
  {
   "cell_type": "code",
   "execution_count": null,
   "id": "821aa08e",
   "metadata": {},
   "outputs": [],
   "source": [
    "# Example: Show system prompt being overridden by user instruction\n",
    "system_prompt = \"You are a formal academic historian. Always answer in formal academic English.\"\n",
    "user_prompt = \"Explain the Eiffel Tower as if you are talking to a child.\"\n",
    "pretty_print_response(get_completion(user_prompt, system_prompt=system_prompt))"
   ]
  },
  {
   "cell_type": "markdown",
   "id": "d7214ac1",
   "metadata": {},
   "source": [
    "## 5. Style\n",
    "**Definition**: Style controls the tone, mood, and formatting of the model's response (e.g., Academic, Storytelling, Concise, Playful).\n",
    "\n",
    "**What we try to do:**\n",
    "In the code below, we experiment with different styles to see how the model adapts its language, structure, and presentation. By specifying a style in plain text (e.g., \"Style: Academic\"), we can make the same instruction produce very different outputs—ranging from formal and detailed to casual and narrative.\n",
    "\n",
    "**Examples:**\n",
    "```\n",
    "Style: Academic\n",
    "Instructions: Explain the Eiffel Tower.\n",
    "```\n",
    "```\n",
    "Style: Storytelling\n",
    "Instructions: Explain the Eiffel Tower.\n",
    "```\n",
    "\n",
    "**Why it matters:**\n",
    "Style determines how readable, engaging, and audience-appropriate the output is. It lets you tailor the model's response for different contexts and needs."
   ]
  },
  {
   "cell_type": "code",
   "execution_count": null,
   "id": "e99e6b2a",
   "metadata": {},
   "outputs": [],
   "source": [
    "# Style examples\n",
    "styles = [\"Academic\", \"Storytelling\", \"Concise\"]\n",
    "for style in styles:\n",
    "    prompt = f\"Style: {style}\\nInstructions: Explain the Eiffel Tower.\"\n",
    "    pretty_print_response(get_completion(prompt))"
   ]
  },
  {
   "cell_type": "markdown",
   "id": "53341d94",
   "metadata": {},
   "source": [
    "## 6. Mixed Frames (Combining Modes)\n",
    "You can mix all four modes to precisely shape the output.\n",
    "\n",
    "**Should you set a system prompt?**\n",
    "Yes! When combining modes, it's best practice to set a system prompt to establish the default behavior and ground rules. The system prompt acts as a baseline, while role, style, instructions, and data further refine or override the output for each task.\n",
    "\n",
    "\n",
    "**Override Example:**\n",
    "A system prompt sets the default behavior, but a specific user instruction or role prompt can override it. For instance, set a formal academic system prompt, then provide a user instruction that asks for a casual explanation. You can also add data to the instructions, such as the location of the Eiffel Tower.\n",
    "\n",
    "**Example (Plain text, as used in code):**\n",
    "```\n",
    "System: You are a precise, cite-when-appropriate science communicator.\n",
    "Role: Engineer\n",
    "Style: Concise\n",
    "Instructions: Explain what it is and where it is in two bullets.\n",
    "```"
   ]
  },
  {
   "cell_type": "code",
   "execution_count": null,
   "id": "868d9dca",
   "metadata": {},
   "outputs": [],
   "source": [
    "# Mixed frames example\n",
    "system = \"You are a precise, cite-when-appropriate science communicator.\"\n",
    "role = \"Engineer\"\n",
    "style = \"Concise\"\n",
    "instructions = \"The Eiffel Tower is in Paris. Explain what it is and where it is in two bullets.\"\n",
    "prompt = f\"System: {system}\\nRole: {role}\\nStyle: {style}\\nInstructions: {instructions}\"\n",
    "pretty_print_response(get_completion(prompt))"
   ]
  },
  {
   "cell_type": "markdown",
   "id": "bcf68577",
   "metadata": {},
   "source": [
    "## 7. Quick Comparison Table\n",
    "\n",
    "| Mode | Scope | Persistence | Primary Use |\n",
    "|---|---|---|---|\n",
    "| **System** | Global defaults | High | Set baseline behavior for the session |\n",
    "| **Role** | Persona for a task | Low/Task-level | Change perspective/voice |\n",
    "| **Instructions** | Immediate task | Immediate | Specify exact output and constraints |\n",
    "| **Style** | Tone/formatting | Low/Task-level | Control how it reads/looks |\n",
    "\n",
    "**Key Takeaways**\n",
    "- System defines the playing field. Role, Instructions, and Style shape the specific play.\n",
    "- You can override defaults by being explicit in instructions.\n",
    "- Use mixed frames when you need both precision in *what* to say and *how* to say it."
   ]
  }
 ],
 "metadata": {
  "colab": {
   "provenance": []
  },
  "kernelspec": {
   "display_name": "Python 3",
   "language": "python",
   "name": "python3"
  },
  "language_info": {
   "codemirror_mode": {
    "name": "ipython",
    "version": 3
   },
   "file_extension": ".py",
   "mimetype": "text/x-python",
   "name": "python",
   "nbconvert_exporter": "python",
   "pygments_lexer": "ipython3",
   "version": "3.11.9"
  }
 },
 "nbformat": 4,
 "nbformat_minor": 5
}
