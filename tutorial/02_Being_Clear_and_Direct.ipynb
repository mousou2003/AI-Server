{
 "cells": [
  {
   "cell_type": "markdown",
   "id": "fc9fb151",
   "metadata": {},
   "source": [
    "# Chapter 2: Being Clear and Direct\n",
    "\n",
    "This lesson shows how to get the best results from Ollama by writing clear, direct prompts.\n",
    "\n",
    "- Why clarity matters\n",
    "- How to avoid ambiguity\n",
    "- Exercises to practice direct prompting\n",
    "\n",
    "Run the setup cell first to load your model and helper function."
   ]
  },
  {
   "cell_type": "code",
   "execution_count": null,
   "id": "85adf044",
   "metadata": {},
   "outputs": [],
   "source": [
    "# Run environment setup\n",
    "def pretty_print_response():\n",
    "    return\n",
    "def get_completion():\n",
    "    return\n",
    "%run 00_Tutorial_How-To.ipynb"
   ]
  },
  {
   "cell_type": "markdown",
   "id": "4cfec590",
   "metadata": {},
   "source": [
    "## Why Clear Prompts Matter\n",
    "\n",
    "Ollama responds best to clear and direct instructions.\n",
    "If your prompt is ambiguous, the model may guess or hedge its answer.\n",
    "\n",
    "**Golden Rule:** Show your prompt to a friend. If they're confused, Ollama will be too!"
   ]
  },
  {
   "cell_type": "markdown",
   "id": "0f35c94a",
   "metadata": {},
   "source": [
    "## Example: Poetry\n",
    "Let's see how prompt clarity affects Ollama's output."
   ]
  },
  {
   "cell_type": "code",
   "execution_count": null,
   "id": "cacd4f54",
   "metadata": {},
   "outputs": [],
   "source": [
    "# Basic prompt\n",
    "prompt = 'What is a haiku? Write a haiku about robots.'\n",
    "pretty_print_response(get_completion(prompt))"
   ]
  },
  {
   "cell_type": "markdown",
   "id": "93de9cf6",
   "metadata": {},
   "source": [
    "Notice how Ollama may include a preamble before the poem.\n",
    "To get straight to the poem, be more direct!"
   ]
  },
  {
   "cell_type": "code",
   "execution_count": null,
   "id": "f385c1f1",
   "metadata": {},
   "outputs": [],
   "source": [
    "# Direct prompt\n",
    "prompt = 'What is a haiku? Write a haiku about robots. Skip the preamble; go straight into the poem.'\n",
    "pretty_print_response(get_completion(prompt))"
   ]
  },
  {
   "cell_type": "markdown",
   "id": "5b0c4331",
   "metadata": {},
   "source": [
    "## Example: Asking for a Decision\n",
    "\n",
    "Ambiguous prompts lead to ambiguous answers.\n",
    "Let's ask Ollama for the best basketball player of all time."
   ]
  },
  {
   "cell_type": "code",
   "execution_count": null,
   "id": "6f64df2a",
   "metadata": {},
   "outputs": [],
   "source": [
    "# Ambiguous prompt\n",
    "prompt = 'Who is the best basketball player of all time?'\n",
    "pretty_print_response(get_completion(prompt))"
   ]
  },
  {
   "cell_type": "markdown",
   "id": "b6e4be5b",
   "metadata": {},
   "source": [
    "Ollama may list several players or avoid picking one.\n",
    "Let's make the prompt more direct."
   ]
  },
  {
   "cell_type": "code",
   "execution_count": null,
   "id": "1930031a",
   "metadata": {},
   "outputs": [],
   "source": [
    "# Direct prompt\n",
    "prompt = 'Who is the best basketball player of all time? Yes, there are differing opinions, but if you absolutely had to pick one player, who would it be? Just give me the name of the player.'\n",
    "pretty_print_response(get_completion(prompt))"
   ]
  },
  {
   "cell_type": "markdown",
   "id": "e20648c8",
   "metadata": {},
   "source": [
    "## Exercises\n",
    "Try these exercises to practice writing clear and direct prompts."
   ]
  },
  {
   "cell_type": "markdown",
   "id": "1e299882",
   "metadata": {},
   "source": [
    "### Exercise 1: Spanish\n",
    "In this exercise, you'll see how a system prompt can control the language Ollama uses in its response.\n",
    "\n",
    "**Goal:** Make Ollama answer in Spanish, regardless of the question.\n",
    "\n",
    "Try changing the system prompt to something like:\n",
    "- \"You are a helpful assistant who always answers in Spanish.\"\n",
    "Then run the cell and see how the output changes.\n",
    "\n",
    "This is useful for translation tasks, or when you want the model to respond in a specific language."
   ]
  },
  {
   "cell_type": "code",
   "execution_count": null,
   "id": "8f7556f3",
   "metadata": {},
   "outputs": [],
   "source": [
    "# System prompt - change this\n",
    "system_prompt = '[Replace this text]'\n",
    "prompt = 'Hello Ollama, how are you?'\n",
    "pretty_print_response(get_completion(prompt, system_prompt=system_prompt))"
   ]
  },
  {
   "cell_type": "markdown",
   "id": "41284296",
   "metadata": {},
   "source": [
    "### Exercise 2: One Player Only\n",
    "This exercise helps you practice making prompts extremely specific and direct.\n",
    "\n",
    "**Goal:** Change the prompt so Ollama responds with only the name of one basketball player, with no extra words or punctuation.\n",
    "\n",
    "Think about how you would phrase the question to a person if you wanted just a single word answer.\n",
    "\n",
    "This is useful when you need a model to output a value for further processing, or when you want to avoid extra text."
   ]
  },
  {
   "cell_type": "code",
   "execution_count": null,
   "id": "2276c94a",
   "metadata": {},
   "outputs": [],
   "source": [
    "# Prompt - change this\n",
    "prompt = '[Replace this text]'\n",
    "pretty_print_response(get_completion(prompt))"
   ]
  },
  {
   "cell_type": "markdown",
   "id": "0f479d63",
   "metadata": {},
   "source": [
    "### Exercise 3: Write a Story\n",
    "This exercise is about controlling the length and structure of Ollama's output.\n",
    "\n",
    "**Goal:** Write a prompt that makes Ollama write a story about a robot in exactly three sentences.\n",
    "\n",
    "Try to be clear and direct in your instructions. For example, you can specify:\n",
    "- \"Write a story about a robot in exactly three sentences.\"\n",
    "This is useful when you want concise answers, or need the output to fit a specific format."
   ]
  },
  {
   "cell_type": "code",
   "execution_count": null,
   "id": "192c9fe7",
   "metadata": {},
   "outputs": [],
   "source": [
    "# Prompt - change this\n",
    "prompt = '[Replace this text]'\n",
    "pretty_print_response(get_completion(prompt))"
   ]
  }
 ],
 "metadata": {
  "kernelspec": {
   "display_name": "Python 3",
   "language": "python",
   "name": "python3"
  },
  "language_info": {
   "codemirror_mode": {
    "name": "ipython",
    "version": 3
   },
   "file_extension": ".py",
   "mimetype": "text/x-python",
   "name": "python",
   "nbconvert_exporter": "python",
   "pygments_lexer": "ipython3",
   "version": "3.11.9"
  }
 },
 "nbformat": 4,
 "nbformat_minor": 5
}
